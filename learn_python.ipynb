{
 "cells": [
  {
   "cell_type": "markdown",
   "metadata": {},
   "source": [
    "# Learn Python from W3 schools"
   ]
  },
  {
   "cell_type": "markdown",
   "metadata": {},
   "source": [
    "01. syntax"
   ]
  },
  {
   "cell_type": "code",
   "execution_count": 28,
   "metadata": {},
   "outputs": [
    {
     "name": "stdout",
     "output_type": "stream",
     "text": [
      "Hello world\n"
     ]
    }
   ],
   "source": [
    "print(\"Hello world\")"
   ]
  },
  {
   "cell_type": "markdown",
   "metadata": {},
   "source": [
    "02. comments"
   ]
  },
  {
   "cell_type": "code",
   "execution_count": 29,
   "metadata": {},
   "outputs": [
    {
     "data": {
      "text/plain": [
       "'\\nMultiline comment can be written in triple quotes \\nlike alike\\nmultiline comment \\n'"
      ]
     },
     "execution_count": 29,
     "metadata": {},
     "output_type": "execute_result"
    }
   ],
   "source": [
    "# This is single line comment \n",
    "\"\"\"\n",
    "Multiline comment can be written in triple quotes \n",
    "like alike\n",
    "multiline comment \n",
    "\"\"\"\n",
    "# t is a also\n",
    "# multiline \n",
    "# comment "
   ]
  },
  {
   "cell_type": "markdown",
   "metadata": {},
   "source": [
    "03. Variables.\n",
    "\n",
    "Python has no command for declaring a variable.\n",
    "\n",
    "A variable is created the moment you first assign a value to it.\n",
    "\n",
    "\n"
   ]
  },
  {
   "cell_type": "code",
   "execution_count": 30,
   "metadata": {},
   "outputs": [
    {
     "name": "stdout",
     "output_type": "stream",
     "text": [
      "Python is fantastic\n"
     ]
    }
   ],
   "source": [
    "x = 14\n",
    "y = \"ali\"\n",
    "# print(x)\n",
    "# print(y)\n",
    "z = 30\n",
    "z = \"nawaz\"\n",
    "# print(z)\n",
    "# its a line by line interpreter so print of z will be last declared value.\n",
    "# Casting = If you want to specify the data type of a variable, this can be done with casting.\n",
    "a = str (\"abc\")\n",
    "b = int (123)\n",
    "c = float (3)\n",
    "# print(a,b,c)\n",
    "#Get the Type\n",
    "#You can get the data type of a variable with the type() function.\n",
    "# print(type(x))\n",
    "# print(type(y))\n",
    "# print(type(z))\n",
    "# print(type(x))\n",
    "# Case Sensitive\n",
    "a = \"waleed\"\n",
    "A = 23\n",
    "# print(a)\n",
    "# print(A) # a will not overwrite A\n",
    "# Variable Names\n",
    "\"\"\" \n",
    "A variable name must start with a letter or the underscore character\n",
    "A variable name cannot start with a number\n",
    "A variable name can only contain alpha-numeric characters and underscores (A-z, 0-9, and _ )\n",
    "Variable names are case-sensitive (age, Age and AGE are three different variables)\n",
    "\n",
    "\"\"\"\n",
    "myvar = \"Waleed\"\n",
    "my_var = \"waleed\"\n",
    "_my_var = \"waleed\"\n",
    "myVar = \"waleed\"\n",
    "MYVAR = \"waleed\"\n",
    "myvar2 = \"waleed\"\n",
    "# illegal variable name \n",
    "\"\"\"\n",
    "2myvar = \"John\"\n",
    "my-var = \"John\"\n",
    "my var = \"John\"\n",
    "\n",
    "\"\"\"\n",
    "# Assign Multiple Values\n",
    "# example 1\n",
    "a, b, c = 12 ,\"ali\", 30\n",
    "# print(a)\n",
    "# print(b)\n",
    "# print(c)\n",
    "# example 2\n",
    "a= b= c = 100\n",
    "# print(a)\n",
    "# print(b)\n",
    "# print(c)\n",
    "# example 3\n",
    "name = [\"ali\", \"waleed\", \"saad\" ]\n",
    "x,y,z = name\n",
    "# print(x)\n",
    "# print(y)\n",
    "# print(z)\n",
    "# Output Variables\n",
    "x = \"Python is awesome\"\n",
    "# print(x)\n",
    "x = \"Python\"\n",
    "y = \"is\"\n",
    "z = \"awesome\"\n",
    "# print(x, y, z)\n",
    "x = \"Python \"\n",
    "y = \"is \"\n",
    "z = \"awesome\"\n",
    "# print(x + y + z)\n",
    "x = 5\n",
    "y = 10\n",
    "# print(x + y) # 15 due to addition \n",
    "x = 5\n",
    "y = \"John\"\n",
    "# print(x + y) # error because types of both variable are not same \n",
    "x = 5\n",
    "y = \"John\"\n",
    "# print(x, y)\n",
    "# Global Variables\n",
    "# example 1\n",
    "x = \"Python\" \n",
    "def myFunc ():\n",
    "    print(x + \"is awesome i like it. Its a dynamic langue and used worldwide.\")\n",
    "\n",
    "# myFunc()\n",
    "# example 2\n",
    "x = \"awesome\"\n",
    "def myFunc():\n",
    "  x = \"fantastic\"\n",
    "  print(\"Python is \" + x)\n",
    "\n",
    "# myFunc() # In this case python will print inside the function value fantastic\n",
    "\n",
    "# print(\"Python is \" + x) # in this case python will print first x variable value which is outside the function.\n",
    "# example 3\n",
    "def myFunc():\n",
    "  global x\n",
    "  x = \"fantastic\"\n",
    "\n",
    "# myFunc()\n",
    "\n",
    "#print(\"Python is \" + x)\n",
    "x = \"awesome\"\n",
    "\n",
    "def myFunc():\n",
    "  global x\n",
    "  x = \"fantastic\"\n",
    "\n",
    "myFunc()\n",
    "\n",
    "print(\"Python is \" + x) # In this case python will print the value of x which is globally assigned. \"fantastic\""
   ]
  },
  {
   "cell_type": "markdown",
   "metadata": {},
   "source": [
    "04. Python Data Types  \n",
    "Variables can store data of different types, and different types can do different things.\n",
    "\n",
    "Python has the following data types built-in by default, in these categories:\n",
    "\n",
    "Text Type:\tstr\n",
    "Numeric Types:\tint, float, complex\n",
    "Sequence Types:\tlist, tuple, range\n",
    "Mapping Type:\tdict\n",
    "Set Types:\tset, frozenset\n",
    "Boolean Type:\tbool\n",
    "Binary Types:\tbytes, bytearray, memoryview\n",
    "None Type:\tNoneType\n"
   ]
  },
  {
   "cell_type": "code",
   "execution_count": 31,
   "metadata": {},
   "outputs": [],
   "source": [
    "x = \"My name is khalid nawaz ch\" # str \n",
    "x = 123 # int \n",
    "x = 2.0 # float \n",
    "x = 7j # complex \n",
    "x = [\"ali\",\"saad\", \"waleed\", \"khalid\"]# list \n",
    "x = (\"ali\",\"saad\", \"waleed\", \"khalid\")# tuple  \n",
    "x = range(6) # range \n",
    "x = {\"name\" : \"John\", \"age\" : 36} # dict \n",
    "x = {\"apple\", \"banana\", \"cherry\"} # set\n",
    "x = frozenset({\"apple\", \"banana\", \"cherry\"}) # frozenset\n",
    "x = True # bool\n",
    "x = False # bool\n",
    "x = b\"logo\" # bytes \n",
    "x = bytearray(5) # bytearray\n",
    "x = memoryview(bytes(5)) # memoryview \n",
    "x = None"
   ]
  },
  {
   "cell_type": "markdown",
   "metadata": {},
   "source": [
    "05. Get data types \n"
   ]
  },
  {
   "cell_type": "code",
   "execution_count": 32,
   "metadata": {},
   "outputs": [
    {
     "name": "stdout",
     "output_type": "stream",
     "text": [
      "<class 'str'>\n"
     ]
    }
   ],
   "source": [
    "k = \"khalid nawaz\"\n",
    "print(type(k))"
   ]
  },
  {
   "cell_type": "markdown",
   "metadata": {},
   "source": [
    "06. f-string \n",
    "if you want to make a card or other thing like this you have to need put data of different data types in a single data type then simply use f-string function.\n"
   ]
  },
  {
   "cell_type": "code",
   "execution_count": 39,
   "metadata": {},
   "outputs": [
    {
     "name": "stdout",
     "output_type": "stream",
     "text": [
      " \n",
      "Name = Hello, World I am khalid nawaz.\n",
      "Education = I have done master in PIAIC.\n",
      "Age = I am 28 years old.\n",
      "Role Number = 22517\n",
      "\n"
     ]
    }
   ],
   "source": [
    "Name = \"Hello, World I am khalid nawaz.\"\n",
    "education = \"I have done master in PIAIC.\"\n",
    "Age = \"I am 28 years old.\"\n",
    "roleNumber = 22517\n",
    "\n",
    "data = f\"\"\" \n",
    "Name = {Name}\n",
    "Education = {education}\n",
    "Age = {Age}\n",
    "Role Number = {roleNumber}\n",
    "\"\"\"\n",
    "print (data)"
   ]
  },
  {
   "cell_type": "markdown",
   "metadata": {},
   "source": [
    "07. execute function "
   ]
  },
  {
   "cell_type": "code",
   "execution_count": 41,
   "metadata": {},
   "outputs": [
    {
     "name": "stdout",
     "output_type": "stream",
     "text": [
      "My name is khalid nawaz, im from PIAIC.\n",
      "80\n",
      "150\n"
     ]
    }
   ],
   "source": [
    "code =\"\"\"  \n",
    "print (\"My name is khalid nawaz, im from PIAIC.\")\n",
    "num1 = 30\n",
    "num2 = 50\n",
    "print (num1+num2)\n",
    "num3 = 30\n",
    "num4 = 5 \n",
    "print (num3*num4)\n",
    "\"\"\"\n",
    "exec(code)"
   ]
  }
 ],
 "metadata": {
  "kernelspec": {
   "display_name": "Python 3",
   "language": "python",
   "name": "python3"
  },
  "language_info": {
   "codemirror_mode": {
    "name": "ipython",
    "version": 3
   },
   "file_extension": ".py",
   "mimetype": "text/x-python",
   "name": "python",
   "nbconvert_exporter": "python",
   "pygments_lexer": "ipython3",
   "version": "3.12.0"
  }
 },
 "nbformat": 4,
 "nbformat_minor": 2
}
