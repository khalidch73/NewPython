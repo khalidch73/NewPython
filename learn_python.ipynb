{
 "cells": [
  {
   "cell_type": "markdown",
   "metadata": {},
   "source": [
    "# Learn Python from W3 schools"
   ]
  },
  {
   "cell_type": "markdown",
   "metadata": {},
   "source": [
    "01. syntax"
   ]
  },
  {
   "cell_type": "code",
   "execution_count": 83,
   "metadata": {},
   "outputs": [
    {
     "name": "stdout",
     "output_type": "stream",
     "text": [
      "Hello world\n"
     ]
    }
   ],
   "source": [
    "print(\"Hello world\")"
   ]
  },
  {
   "cell_type": "markdown",
   "metadata": {},
   "source": [
    "02. comments"
   ]
  },
  {
   "cell_type": "code",
   "execution_count": 84,
   "metadata": {},
   "outputs": [
    {
     "data": {
      "text/plain": [
       "'\\nMultiline comment can be written in triple quotes \\nlike alike\\nmultiline comment \\n'"
      ]
     },
     "execution_count": 84,
     "metadata": {},
     "output_type": "execute_result"
    }
   ],
   "source": [
    "# This is single line comment \n",
    "\"\"\"\n",
    "Multiline comment can be written in triple quotes \n",
    "like alike\n",
    "multiline comment \n",
    "\"\"\"\n",
    "# t is a also\n",
    "# multiline \n",
    "# comment "
   ]
  },
  {
   "cell_type": "markdown",
   "metadata": {},
   "source": [
    "03. Variables.\n",
    "\n",
    "Python has no command for declaring a variable.\n",
    "\n",
    "A variable is created the moment you first assign a value to it.\n",
    "\n",
    "\n"
   ]
  },
  {
   "cell_type": "code",
   "execution_count": 85,
   "metadata": {},
   "outputs": [
    {
     "name": "stdout",
     "output_type": "stream",
     "text": [
      "Python is fantastic\n"
     ]
    }
   ],
   "source": [
    "x = 14\n",
    "y = \"ali\"\n",
    "# print(x)\n",
    "# print(y)\n",
    "z = 30\n",
    "z = \"nawaz\"\n",
    "# print(z)\n",
    "# its a line by line interpreter so print of z will be last declared value.\n",
    "# Casting = If you want to specify the data type of a variable, this can be done with casting.\n",
    "a = str (\"abc\")\n",
    "b = int (123)\n",
    "c = float (3)\n",
    "# print(a,b,c)\n",
    "#Get the Type\n",
    "#You can get the data type of a variable with the type() function.\n",
    "# print(type(x))\n",
    "# print(type(y))\n",
    "# print(type(z))\n",
    "# print(type(x))\n",
    "# Case Sensitive\n",
    "a = \"waleed\"\n",
    "A = 23\n",
    "# print(a)\n",
    "# print(A) # a will not overwrite A\n",
    "# Variable Names\n",
    "\"\"\" \n",
    "A variable name must start with a letter or the underscore character\n",
    "A variable name cannot start with a number\n",
    "A variable name can only contain alpha-numeric characters and underscores (A-z, 0-9, and _ )\n",
    "Variable names are case-sensitive (age, Age and AGE are three different variables)\n",
    "\n",
    "\"\"\"\n",
    "myvar = \"Waleed\"\n",
    "my_var = \"waleed\"\n",
    "_my_var = \"waleed\"\n",
    "myVar = \"waleed\"\n",
    "MYVAR = \"waleed\"\n",
    "myvar2 = \"waleed\"\n",
    "# illegal variable name \n",
    "\"\"\"\n",
    "2myvar = \"John\"\n",
    "my-var = \"John\"\n",
    "my var = \"John\"\n",
    "\n",
    "\"\"\"\n",
    "# Assign Multiple Values\n",
    "# example 1\n",
    "a, b, c = 12 ,\"ali\", 30\n",
    "# print(a)\n",
    "# print(b)\n",
    "# print(c)\n",
    "# example 2\n",
    "a= b= c = 100\n",
    "# print(a)\n",
    "# print(b)\n",
    "# print(c)\n",
    "# example 3\n",
    "name = [\"ali\", \"waleed\", \"saad\" ]\n",
    "x,y,z = name\n",
    "# print(x)\n",
    "# print(y)\n",
    "# print(z)\n",
    "# Output Variables\n",
    "x = \"Python is awesome\"\n",
    "# print(x)\n",
    "x = \"Python\"\n",
    "y = \"is\"\n",
    "z = \"awesome\"\n",
    "# print(x, y, z)\n",
    "x = \"Python \"\n",
    "y = \"is \"\n",
    "z = \"awesome\"\n",
    "# print(x + y + z)\n",
    "x = 5\n",
    "y = 10\n",
    "# print(x + y) # 15 due to addition \n",
    "x = 5\n",
    "y = \"John\"\n",
    "# print(x + y) # error because types of both variable are not same \n",
    "x = 5\n",
    "y = \"John\"\n",
    "# print(x, y)\n",
    "# Global Variables\n",
    "# example 1\n",
    "x = \"Python\" \n",
    "def myFunc ():\n",
    "    print(x + \"is awesome i like it. Its a dynamic langue and used worldwide.\")\n",
    "\n",
    "# myFunc()\n",
    "# example 2\n",
    "x = \"awesome\"\n",
    "def myFunc():\n",
    "  x = \"fantastic\"\n",
    "  print(\"Python is \" + x)\n",
    "\n",
    "# myFunc() # In this case python will print inside the function value fantastic\n",
    "\n",
    "# print(\"Python is \" + x) # in this case python will print first x variable value which is outside the function.\n",
    "# example 3\n",
    "def myFunc():\n",
    "  global x\n",
    "  x = \"fantastic\"\n",
    "\n",
    "# myFunc()\n",
    "\n",
    "#print(\"Python is \" + x)\n",
    "x = \"awesome\"\n",
    "\n",
    "def myFunc():\n",
    "  global x\n",
    "  x = \"fantastic\"\n",
    "\n",
    "myFunc()\n",
    "\n",
    "print(\"Python is \" + x) # In this case python will print the value of x which is globally assigned. \"fantastic\""
   ]
  },
  {
   "cell_type": "markdown",
   "metadata": {},
   "source": [
    "04. Python Data Types  \n",
    "Variables can store data of different types, and different types can do different things.\n",
    "\n",
    "Python has the following data types built-in by default, in these categories:\n",
    "\n",
    "Text Type:\tstr\n",
    "Numeric Types:\tint, float, complex\n",
    "Sequence Types:\tlist, tuple, range\n",
    "Mapping Type:\tdict\n",
    "Set Types:\tset, frozenset\n",
    "Boolean Type:\tbool\n",
    "Binary Types:\tbytes, bytearray, memoryview\n",
    "None Type:\tNoneType\n"
   ]
  },
  {
   "cell_type": "code",
   "execution_count": 86,
   "metadata": {},
   "outputs": [],
   "source": [
    "x = \"My name is khalid nawaz ch\" # str \n",
    "x = 123 # int \n",
    "x = 2.0 # float \n",
    "x = 7j # complex \n",
    "x = [\"ali\",\"saad\", \"waleed\", \"khalid\"]# list \n",
    "x = (\"ali\",\"saad\", \"waleed\", \"khalid\")# tuple  \n",
    "x = range(6) # range \n",
    "x = {\"name\" : \"John\", \"age\" : 36} # dict \n",
    "x = {\"apple\", \"banana\", \"cherry\"} # set\n",
    "x = frozenset({\"apple\", \"banana\", \"cherry\"}) # frozenset\n",
    "x = True # bool\n",
    "x = False # bool\n",
    "x = b\"logo\" # bytes \n",
    "x = bytearray(5) # bytearray\n",
    "x = memoryview(bytes(5)) # memoryview \n",
    "x = None"
   ]
  },
  {
   "cell_type": "markdown",
   "metadata": {},
   "source": [
    "05. Get data types \n"
   ]
  },
  {
   "cell_type": "code",
   "execution_count": 87,
   "metadata": {},
   "outputs": [
    {
     "name": "stdout",
     "output_type": "stream",
     "text": [
      "<class 'str'>\n"
     ]
    }
   ],
   "source": [
    "k = \"khalid nawaz\"\n",
    "print(type(k))"
   ]
  },
  {
   "cell_type": "markdown",
   "metadata": {},
   "source": [
    "06. f-string \n",
    "if you want to make a card or other thing like this you have to need put data of different data types in a single data type then simply use f-string function.\n"
   ]
  },
  {
   "cell_type": "code",
   "execution_count": 88,
   "metadata": {},
   "outputs": [
    {
     "name": "stdout",
     "output_type": "stream",
     "text": [
      " \n",
      "Name = Hello, World I am khalid nawaz.\n",
      "Education = I have done master in PIAIC.\n",
      "Age = I am 28 years old.\n",
      "Role Number = 22517\n",
      "\n"
     ]
    }
   ],
   "source": [
    "Name = \"Hello, World I am khalid nawaz.\"\n",
    "education = \"I have done master in PIAIC.\"\n",
    "Age = \"I am 28 years old.\"\n",
    "roleNumber = 22517\n",
    "\n",
    "data = f\"\"\" \n",
    "Name = {Name}\n",
    "Education = {education}\n",
    "Age = {Age}\n",
    "Role Number = {roleNumber}\n",
    "\"\"\"\n",
    "print (data)"
   ]
  },
  {
   "cell_type": "markdown",
   "metadata": {},
   "source": [
    "07. execute function "
   ]
  },
  {
   "cell_type": "code",
   "execution_count": 89,
   "metadata": {},
   "outputs": [
    {
     "name": "stdout",
     "output_type": "stream",
     "text": [
      "My name is khalid nawaz, im from PIAIC.\n",
      "80\n",
      "150\n"
     ]
    }
   ],
   "source": [
    "code =\"\"\"  \n",
    "print (\"My name is khalid nawaz, im from PIAIC.\")\n",
    "num1 = 30\n",
    "num2 = 50\n",
    "print (num1+num2)\n",
    "num3 = 30\n",
    "num4 = 5 \n",
    "print (num3*num4)\n",
    "\"\"\"\n",
    "exec(code)"
   ]
  },
  {
   "cell_type": "markdown",
   "metadata": {},
   "source": [
    "09. import re function. "
   ]
  },
  {
   "cell_type": "code",
   "execution_count": 90,
   "metadata": {},
   "outputs": [
    {
     "data": {
      "text/plain": [
       "'    kHaLiD      nawaz   '"
      ]
     },
     "metadata": {},
     "output_type": "display_data"
    },
    {
     "data": {
      "text/plain": [
       "' kHaLiD nawaz '"
      ]
     },
     "metadata": {},
     "output_type": "display_data"
    },
    {
     "data": {
      "text/plain": [
       "'khalid nawaz'"
      ]
     },
     "metadata": {},
     "output_type": "display_data"
    }
   ],
   "source": [
    "import re \n",
    "name : str = \"    kHaLiD      nawaz   \"\n",
    "display(name)\n",
    "NewName : str = re.sub(' {2,100}',' ', name) # convert the spaces between 2 to 100 in a single space of name variable.\n",
    "display(NewName)\n",
    "display(NewName.capitalize().strip())"
   ]
  },
  {
   "cell_type": "code",
   "execution_count": 91,
   "metadata": {},
   "outputs": [],
   "source": [
    "# import pandas as pd\n",
    "# table = pd.read_html('https://www.w3schools.com/python/python_operators.asp')\n",
    "# table[0]"
   ]
  },
  {
   "cell_type": "markdown",
   "metadata": {},
   "source": [
    "Python Assignment Operators"
   ]
  },
  {
   "cell_type": "code",
   "execution_count": 92,
   "metadata": {},
   "outputs": [
    {
     "name": "stdout",
     "output_type": "stream",
     "text": [
      "20\n",
      "True\n"
     ]
    }
   ],
   "source": [
    "a = 10 \n",
    "a += 10\n",
    "print(a)# add new value in preassign value.\n",
    "print(a==a)"
   ]
  },
  {
   "cell_type": "markdown",
   "metadata": {},
   "source": [
    "Ascii code range \n",
    "\n",
    "Z = 90\n",
    "a = 97\n",
    "z = 122 \n",
    "0 = 48\n",
    "9 = 57 \n",
    "\n",
    "its can be used for comparison operators for easily.\n",
    "\n"
   ]
  },
  {
   "cell_type": "markdown",
   "metadata": {},
   "source": [
    "Python Identity Operators"
   ]
  },
  {
   "cell_type": "code",
   "execution_count": 98,
   "metadata": {},
   "outputs": [
    {
     "name": "stdout",
     "output_type": "stream",
     "text": [
      "False\n",
      "2846443064832\n",
      "2846443073984\n"
     ]
    }
   ],
   "source": [
    "name =[\"ali\",\"saad\", \"waleed\"]\n",
    "NewName =[\"ali\",\"saad\", \"waleed\"]\n",
    "print (name is NewName)\n",
    "print(id(name))\n",
    "print(id(NewName)) # both has different ids"
   ]
  },
  {
   "cell_type": "code",
   "execution_count": 203,
   "metadata": {},
   "outputs": [
    {
     "name": "stdout",
     "output_type": "stream",
     "text": [
      "welcome to home Ali.\n",
      "Again welcome to home.\n",
      "\n",
      "welcome to home Saad.\n",
      "Again welcome to home.\n",
      "\n",
      "welcome to home Waleed.\n",
      "Again welcome to home.\n",
      "\n",
      "welcome to home Hamza.\n",
      "Again welcome to home.\n",
      "\n"
     ]
    }
   ],
   "source": [
    "name =[\"ali\",\"saad\", \"waleed\", \"hamza\"]\n",
    "for x in name:\n",
    " print(f'welcome to home {x.title()}.')\n",
    " print(\"Again welcome to home.\\n\")\n"
   ]
  },
  {
   "cell_type": "code",
   "execution_count": 96,
   "metadata": {},
   "outputs": [
    {
     "name": "stdout",
     "output_type": "stream",
     "text": [
      "True\n"
     ]
    }
   ],
   "source": [
    "name =[\"ali\",\"saad\", \"waleed\"]\n",
    "NewName =[\"ali\",\"saad\", \"waleed\"]\n",
    "print (name == NewName)"
   ]
  },
  {
   "cell_type": "code",
   "execution_count": 99,
   "metadata": {},
   "outputs": [
    {
     "name": "stdout",
     "output_type": "stream",
     "text": [
      "2846442622336\n",
      "2846442622336\n",
      "True\n"
     ]
    }
   ],
   "source": [
    "name =[\"ali\",\"saad\", \"waleed\"]\n",
    "NewName =[\"ali\",\"saad\", \"waleed\"]\n",
    "name = NewName\n",
    "print(id(name))\n",
    "print(id(NewName))\n",
    "print (name is NewName)"
   ]
  },
  {
   "cell_type": "markdown",
   "metadata": {},
   "source": [
    "Python Membership Operators"
   ]
  },
  {
   "cell_type": "code",
   "execution_count": 95,
   "metadata": {},
   "outputs": [
    {
     "name": "stdout",
     "output_type": "stream",
     "text": [
      "['A', 'B', 'C', 'D', 'E', 'F', 'G', 'H', 'I', 'J', 'K', 'L', 'M', 'N', 'O', 'P', 'Q', 'R', 'S', 'T', 'U', 'V', 'W', 'X', 'Y', 'Z']\n",
      "False\n"
     ]
    }
   ],
   "source": [
    "abc :list [str] = [chr(i) for i in range(65,91)]\n",
    "print(abc)\n",
    "print(\"pak\" in abc)"
   ]
  },
  {
   "cell_type": "markdown",
   "metadata": {},
   "source": [
    "user input function "
   ]
  },
  {
   "cell_type": "code",
   "execution_count": 107,
   "metadata": {},
   "outputs": [
    {
     "data": {
      "text/plain": [
       "True"
      ]
     },
     "execution_count": 107,
     "metadata": {},
     "output_type": "execute_result"
    }
   ],
   "source": [
    "name : list[str] = [\"ali\",\"saad\", \"waleed\"]\n",
    "userInput :str = input(\"Enter your name\")\n",
    "userInput in name"
   ]
  },
  {
   "cell_type": "markdown",
   "metadata": {},
   "source": [
    "Operator Precedence"
   ]
  },
  {
   "cell_type": "markdown",
   "metadata": {},
   "source": [
    "<img src ='https://learningmonkey.in/wp-content/uploads/2021/05/Operator-Precedence-and-Associativity-in-Python.jpg'>"
   ]
  },
  {
   "cell_type": "code",
   "execution_count": 108,
   "metadata": {},
   "outputs": [
    {
     "name": "stdout",
     "output_type": "stream",
     "text": [
      "The Zen of Python, by Tim Peters\n",
      "\n",
      "Beautiful is better than ugly.\n",
      "Explicit is better than implicit.\n",
      "Simple is better than complex.\n",
      "Complex is better than complicated.\n",
      "Flat is better than nested.\n",
      "Sparse is better than dense.\n",
      "Readability counts.\n",
      "Special cases aren't special enough to break the rules.\n",
      "Although practicality beats purity.\n",
      "Errors should never pass silently.\n",
      "Unless explicitly silenced.\n",
      "In the face of ambiguity, refuse the temptation to guess.\n",
      "There should be one-- and preferably only one --obvious way to do it.\n",
      "Although that way may not be obvious at first unless you're Dutch.\n",
      "Now is better than never.\n",
      "Although never is often better than *right* now.\n",
      "If the implementation is hard to explain, it's a bad idea.\n",
      "If the implementation is easy to explain, it may be a good idea.\n",
      "Namespaces are one honking great idea -- let's do more of those!\n"
     ]
    }
   ],
   "source": [
    "import this"
   ]
  },
  {
   "cell_type": "markdown",
   "metadata": {},
   "source": [
    "list "
   ]
  },
  {
   "cell_type": "markdown",
   "metadata": {},
   "source": [
    "* dynamic data\n",
    "* multiple data type \n",
    "* find index by two method \n",
    "    * positive index \n",
    "    * negative index "
   ]
  },
  {
   "cell_type": "code",
   "execution_count": 110,
   "metadata": {},
   "outputs": [
    {
     "name": "stdout",
     "output_type": "stream",
     "text": [
      "['A', 'B', 'C', 'D', 'E', 'F', 'G']\n",
      "D\n",
      "D\n"
     ]
    }
   ],
   "source": [
    "studentsName = [\"A\", \"B\", \"C\",\"D\", \"E\", \"F\", \"G\"]\n",
    "print(studentsName)\n",
    "print(studentsName[-4])\n",
    "print(studentsName[3])"
   ]
  },
  {
   "cell_type": "code",
   "execution_count": 120,
   "metadata": {},
   "outputs": [
    {
     "name": "stdout",
     "output_type": "stream",
     "text": [
      "22517\n",
      "khalid nawaz\n",
      "Name of my friends = ['Ali', 'Saad', 'Hamza']\n",
      "Name of my best friend = KHALID NAWAZ\n",
      "<class 'list'>\n"
     ]
    }
   ],
   "source": [
    "\n",
    "data : any = [\"Name = khalid nawaz\", \"Roll no:\", 22517, True, ]\n",
    "print(data[-2])# print list.\n",
    "newData= [\"khalid nawaz\", 22517, True,[\"Ali\", \"Saad\", \"Hamza\"], \"waleed\" ]\n",
    "print(newData[0])# print first index of list.\n",
    "print(f'Name of my friends = {newData[3]}')# print array in array.\n",
    "print(f'Name of my best friend = {newData[0].upper()}')# print first index of list in upper value.\n",
    "print(type(data))# print type of data "
   ]
  },
  {
   "cell_type": "markdown",
   "metadata": {},
   "source": [
    "slicing\n",
    "* make a new list of actual list by slice method"
   ]
  },
  {
   "cell_type": "code",
   "execution_count": 127,
   "metadata": {},
   "outputs": [
    {
     "name": "stdout",
     "output_type": "stream",
     "text": [
      "7\n",
      "['A', 'B', 'C']\n",
      "['A', 'B', 'C']\n",
      "['A', 'B', 'C']\n",
      "['G', 'F', 'E', 'D', 'C', 'B', 'A']\n",
      "['A', 'C', 'E', 'G']\n",
      "['A', 'B', 'C', 'D', 'E', 'F', 'G']\n",
      "['A', 'B', 'C', 'khalid nawaz', 'E', 'F', 'G']\n"
     ]
    }
   ],
   "source": [
    "studentsName = [\"A\", \"B\", \"C\",\"D\", \"E\", \"F\", \"G\"]\n",
    "print(len(studentsName))# len property of list \n",
    "print(studentsName[0:3]) # start from 0 include 3 and -1.\n",
    "print(studentsName[:3]) # if we not add start number its will start from 0 index.\n",
    "print(studentsName[-7: -4]) # if we not add start number its will start from 0 index. \n",
    "print(studentsName[::-1]) # star from last to word star.\n",
    "print(studentsName[::2]) # start from A and jump to c change step to step index.\n",
    "print(studentsName[:]) # \n",
    "studentsName[3] = \"khalid nawaz\"# replace element of list\n",
    "print(studentsName)"
   ]
  },
  {
   "cell_type": "markdown",
   "metadata": {},
   "source": [
    "The list() Constructor\n",
    "* It is also possible to use the list() constructor when creating a new list."
   ]
  },
  {
   "cell_type": "code",
   "execution_count": 128,
   "metadata": {},
   "outputs": [
    {
     "name": "stdout",
     "output_type": "stream",
     "text": [
      "['By', 'this list()', 'we can make a new list.']\n"
     ]
    }
   ],
   "source": [
    "makeList = list((\"By\",\"this list()\", \"we can make a new list.\"))\n",
    "print(makeList)"
   ]
  },
  {
   "cell_type": "code",
   "execution_count": 130,
   "metadata": {},
   "outputs": [
    {
     "name": "stdout",
     "output_type": "stream",
     "text": [
      "['apple', 'blackcurrant', 'watermelon', 'cherry', 'orange', 'kiwi', 'mango']\n"
     ]
    }
   ],
   "source": [
    "# Example\n",
    "# Change the values \"banana\" and \"cherry\" with the values \"blackcurrant\" and \"watermelon\": \n",
    "#              0        1          2        3         4        5\n",
    "thislist = [\"apple\", \"banana\", \"cherry\", \"orange\", \"kiwi\", \"mango\"]\n",
    "thislist[1:3] = [\"blackcurrant\", \"watermelon\"]\n",
    "print(thislist)\n"
   ]
  },
  {
   "cell_type": "code",
   "execution_count": 131,
   "metadata": {},
   "outputs": [
    {
     "name": "stdout",
     "output_type": "stream",
     "text": [
      "['apple', 'value 1', 'value 2', 'cherry', 'orange', 'kiwi', 'mango']\n"
     ]
    }
   ],
   "source": [
    "# Change the second value by replacing it with two new values:\n",
    "thislist = [\"apple\", \"banana\", \"cherry\", \"orange\", \"kiwi\", \"mango\"]\n",
    "thislist[1:2] = \"value 1\", \"value 2\"\n",
    "print(thislist)"
   ]
  },
  {
   "cell_type": "code",
   "execution_count": 134,
   "metadata": {},
   "outputs": [
    {
     "name": "stdout",
     "output_type": "stream",
     "text": [
      "['apple', 'one value', 'orange', 'kiwi', 'mango']\n"
     ]
    }
   ],
   "source": [
    "# Change the second and third value by replacing it with one value:\n",
    "thislist = [\"apple\", \"banana\", \"cherry\", \"orange\", \"kiwi\", \"mango\"]\n",
    "thislist[1:3] = [\"one value\"]\n",
    "print(thislist)"
   ]
  },
  {
   "cell_type": "code",
   "execution_count": 135,
   "metadata": {},
   "outputs": [
    {
     "name": "stdout",
     "output_type": "stream",
     "text": [
      "['apple', 'banana', 'watermelon', 'cherry', 'orange', 'kiwi', 'mango']\n"
     ]
    }
   ],
   "source": [
    "# Insert \"watermelon\" as the third item:\n",
    "#             0         1         2          3        4       5\n",
    "thislist = [\"apple\", \"banana\", \"cherry\", \"orange\", \"kiwi\", \"mango\"]\n",
    "thislist.insert(2, \"watermelon\")\n",
    "print(thislist)\n"
   ]
  },
  {
   "cell_type": "code",
   "execution_count": 136,
   "metadata": {},
   "outputs": [
    {
     "name": "stdout",
     "output_type": "stream",
     "text": [
      "['apple', 'banana', 'cherry', 'orange', 'kiwi', 'mango', 'watermelon']\n"
     ]
    }
   ],
   "source": [
    "# Using the append() method to append an item:\n",
    "# To add an item to the end of the list, use the append() method:\n",
    "#             0         1         2          3        4       5\n",
    "thislist = [\"apple\", \"banana\", \"cherry\", \"orange\", \"kiwi\", \"mango\"]\n",
    "thislist.append(\"watermelon\")\n",
    "print(thislist)"
   ]
  },
  {
   "cell_type": "code",
   "execution_count": 137,
   "metadata": {},
   "outputs": [
    {
     "name": "stdout",
     "output_type": "stream",
     "text": [
      "['apple', 'watermelon', 'banana', 'cherry', 'orange', 'kiwi', 'mango']\n"
     ]
    }
   ],
   "source": [
    "# Insert an item as the second position:\n",
    "#             0         1         2          3        4       5\n",
    "thislist = [\"apple\", \"banana\", \"cherry\", \"orange\", \"kiwi\", \"mango\"]\n",
    "thislist.insert(1, \"watermelon\")\n",
    "print(thislist)"
   ]
  },
  {
   "cell_type": "code",
   "execution_count": 165,
   "metadata": {},
   "outputs": [
    {
     "data": {
      "text/plain": [
       "['mango', 'kiwi', 'orange', 'cherry', 'banana', 'apple']"
      ]
     },
     "execution_count": 165,
     "metadata": {},
     "output_type": "execute_result"
    }
   ],
   "source": [
    "# reverse method\n",
    "thislist = [\"apple\", \"banana\", \"cherry\", \"orange\", \"kiwi\", \"mango\"]\n",
    "thislist.reverse()\n",
    "thislist"
   ]
  },
  {
   "cell_type": "code",
   "execution_count": 166,
   "metadata": {},
   "outputs": [
    {
     "data": {
      "text/plain": [
       "['apple', 'banana', 'cherry', 'kiwi', 'mango', 'orange']"
      ]
     },
     "execution_count": 166,
     "metadata": {},
     "output_type": "execute_result"
    }
   ],
   "source": [
    "# sort method\n",
    "thislist = [\"apple\", \"banana\", \"cherry\", \"orange\", \"kiwi\", \"mango\"]\n",
    "thislist.sort()\n",
    "thislist"
   ]
  },
  {
   "cell_type": "code",
   "execution_count": 139,
   "metadata": {},
   "outputs": [
    {
     "name": "stdout",
     "output_type": "stream",
     "text": [
      "['apple', 'banana', 'cherry', 'mango', 'pineapple', 'papaya']\n"
     ]
    }
   ],
   "source": [
    "# Extend List\n",
    "# To append elements from another list to the current list, use the extend() method.\n",
    "# Example\n",
    "# Add the elements of tropical to thislist:\n",
    "\n",
    "thislist = [\"apple\", \"banana\", \"cherry\"]\n",
    "tropical = [\"mango\", \"pineapple\", \"papaya\"]\n",
    "thislist.extend(tropical)\n",
    "print(thislist)"
   ]
  },
  {
   "cell_type": "code",
   "execution_count": 140,
   "metadata": {},
   "outputs": [
    {
     "name": "stdout",
     "output_type": "stream",
     "text": [
      "['apple', 'banana', 'cherry', 'kiwi', 'orange']\n"
     ]
    }
   ],
   "source": [
    "# Add Any Iterable\n",
    "# The extend() method does not have to append lists, you can add any iterable object (tuples, sets, dictionaries etc.).\n",
    "\n",
    "# Example\n",
    "# Add elements of a tuple to a list:\n",
    "\n",
    "thislist = [\"apple\", \"banana\", \"cherry\"]\n",
    "thistuple = (\"kiwi\", \"orange\")\n",
    "thislist.extend(thistuple)\n",
    "print(thislist)"
   ]
  },
  {
   "cell_type": "code",
   "execution_count": 143,
   "metadata": {},
   "outputs": [
    {
     "name": "stdout",
     "output_type": "stream",
     "text": [
      "['apple', 'cherry']\n"
     ]
    }
   ],
   "source": [
    "# Remove Specified Item\n",
    "# The remove() method removes the specified item.\n",
    "\n",
    "# Example\n",
    "# Remove \"banana\":\n",
    "\n",
    "thislist = [\"apple\", \"banana\", \"cherry\"]\n",
    "thislist.remove(\"banana\")\n",
    "print(thislist)"
   ]
  },
  {
   "cell_type": "code",
   "execution_count": 150,
   "metadata": {},
   "outputs": [
    {
     "name": "stdout",
     "output_type": "stream",
     "text": [
      "['apple', 'cherry']\n",
      "['banana', 'cherry']\n",
      "['apple', 'banana']\n"
     ]
    }
   ],
   "source": [
    "# Remove Specified Index\n",
    "# The pop() method removes the specified index.\n",
    "\n",
    "# Example\n",
    "# Remove the second item:\n",
    "thislist = [\"apple\", \"banana\", \"cherry\"]\n",
    "thislist.pop(1)\n",
    "print(thislist)\n",
    "# Remove the first item:\n",
    "thislist = [\"apple\", \"banana\", \"cherry\"]\n",
    "thislist.pop(0)\n",
    "print(thislist)\n",
    "# If you do not specify the index, the pop() method removes the last item.\n",
    "thislist = [\"apple\", \"banana\", \"cherry\"]\n",
    "thislist.pop()\n",
    "print(thislist)"
   ]
  },
  {
   "cell_type": "code",
   "execution_count": 155,
   "metadata": {},
   "outputs": [
    {
     "name": "stdout",
     "output_type": "stream",
     "text": [
      "['banana', 'cherry']\n"
     ]
    },
    {
     "ename": "NameError",
     "evalue": "name 'thislist' is not defined",
     "output_type": "error",
     "traceback": [
      "\u001b[1;31m---------------------------------------------------------------------------\u001b[0m",
      "\u001b[1;31mNameError\u001b[0m                                 Traceback (most recent call last)",
      "\u001b[1;32mf:\\NewPython\\learn_python.ipynb Cell 51\u001b[0m line \u001b[0;36m1\n\u001b[0;32m     <a href='vscode-notebook-cell:/f%3A/NewPython/learn_python.ipynb#Y110sZmlsZQ%3D%3D?line=9'>10</a>\u001b[0m thislist \u001b[39m=\u001b[39m [\u001b[39m\"\u001b[39m\u001b[39mapple\u001b[39m\u001b[39m\"\u001b[39m, \u001b[39m\"\u001b[39m\u001b[39mbanana\u001b[39m\u001b[39m\"\u001b[39m, \u001b[39m\"\u001b[39m\u001b[39mcherry\u001b[39m\u001b[39m\"\u001b[39m]\n\u001b[0;32m     <a href='vscode-notebook-cell:/f%3A/NewPython/learn_python.ipynb#Y110sZmlsZQ%3D%3D?line=10'>11</a>\u001b[0m \u001b[39mdel\u001b[39;00m thislist\n\u001b[1;32m---> <a href='vscode-notebook-cell:/f%3A/NewPython/learn_python.ipynb#Y110sZmlsZQ%3D%3D?line=11'>12</a>\u001b[0m \u001b[39mprint\u001b[39m(thislist)\n",
      "\u001b[1;31mNameError\u001b[0m: name 'thislist' is not defined"
     ]
    }
   ],
   "source": [
    "# The del keyword also removes the specified index:\n",
    "# Example\n",
    "# Remove the first item:\n",
    "thislist = [\"apple\", \"banana\", \"cherry\"]\n",
    "del thislist[0]\n",
    "print(thislist)\n",
    "# The del keyword can also delete the list completely.\n",
    "# Example\n",
    "# Delete the entire list:\n",
    "thislist = [\"apple\", \"banana\", \"cherry\"]\n",
    "del thislist\n",
    "print(thislist) #this will cause an error because you have successfully deleted \"thislist\"."
   ]
  },
  {
   "cell_type": "code",
   "execution_count": 156,
   "metadata": {},
   "outputs": [
    {
     "name": "stdout",
     "output_type": "stream",
     "text": [
      "[]\n"
     ]
    }
   ],
   "source": [
    "# Clear the List\n",
    "# The clear() method empties the list.\n",
    "\n",
    "# The list still remains, but it has no content.\n",
    "\n",
    "# Example\n",
    "# Clear the list content:\n",
    "\n",
    "thislist = [\"apple\", \"banana\", \"cherry\"]\n",
    "thislist.clear()\n",
    "print(thislist)"
   ]
  },
  {
   "cell_type": "code",
   "execution_count": 160,
   "metadata": {},
   "outputs": [
    {
     "name": "stdout",
     "output_type": "stream",
     "text": [
      "apple\n",
      "banana\n",
      "cherry\n"
     ]
    }
   ],
   "source": [
    "# Loop Through a List\n",
    "# You can loop through the list items by using a for loop:\n",
    "# Example\n",
    "# Print all items in the list, one by one:\n",
    "thislist = [\"apple\", \"banana\", \"cherry\"]\n",
    "for vertical in thislist:\n",
    "    print(vertical)"
   ]
  },
  {
   "cell_type": "code",
   "execution_count": 163,
   "metadata": {},
   "outputs": [
    {
     "name": "stdout",
     "output_type": "stream",
     "text": [
      "apple\n",
      "banana\n",
      "cherry\n"
     ]
    }
   ],
   "source": [
    "thislist = [\"apple\", \"banana\", \"cherry\"]\n",
    "for i in range(len(thislist)):\n",
    "    print(thislist[i])"
   ]
  },
  {
   "cell_type": "code",
   "execution_count": 167,
   "metadata": {},
   "outputs": [
    {
     "name": "stdout",
     "output_type": "stream",
     "text": [
      "1\n",
      "2\n",
      "3\n",
      "4\n",
      "5\n",
      "6\n",
      "7\n",
      "8\n",
      "9\n",
      "10\n"
     ]
    }
   ],
   "source": [
    "number = [1,2,3,4,5,6,7,8,9,10]\n",
    "for v in number:\n",
    "    print(v)"
   ]
  },
  {
   "cell_type": "markdown",
   "metadata": {},
   "source": [
    "List Comprehension:\n",
    "\n",
    "List comprehension offers a shorter syntax when you want to create a new list based on the values of an existing list.\n",
    "\n",
    "Example:\n",
    "\n",
    "Based on a list of fruits, you want a new list, containing only the fruits with the letter \"a\" in the name.\n",
    "\n",
    "Without list comprehension you will have to write a for statement with a conditional test inside:\n",
    "\n"
   ]
  },
  {
   "cell_type": "code",
   "execution_count": 173,
   "metadata": {},
   "outputs": [
    {
     "name": "stdout",
     "output_type": "stream",
     "text": [
      "['apple', 'banana']\n"
     ]
    }
   ],
   "source": [
    "thislist = [\"apple\", \"banana\", \"cherry\"]\n",
    "new_list = []\n",
    "for x in thislist:\n",
    "    if \"a\" in x:\n",
    "     new_list.append(x)\n",
    "print(new_list)"
   ]
  },
  {
   "cell_type": "code",
   "execution_count": 171,
   "metadata": {},
   "outputs": [
    {
     "name": "stdout",
     "output_type": "stream",
     "text": [
      "['apple', 'banana', 'mango']\n"
     ]
    }
   ],
   "source": [
    "fruits = [\"apple\", \"banana\", \"cherry\", \"kiwi\", \"mango\"]\n",
    "newlist = []\n",
    "\n",
    "for x in fruits:\n",
    "  if \"a\" in x:\n",
    "    newlist.append(x)\n",
    "\n",
    "print(newlist)"
   ]
  },
  {
   "cell_type": "code",
   "execution_count": 176,
   "metadata": {},
   "outputs": [
    {
     "name": "stdout",
     "output_type": "stream",
     "text": [
      "['apple', 'banana', 'mango', 'apple']\n"
     ]
    }
   ],
   "source": [
    "fruits = [\"apple\", \"banana\", \"cherry\", \"kiwi\", \"mango\", \"apple\"]\n",
    "myfruits = []\n",
    "for x in fruits:\n",
    "    if \"a\" in x:\n",
    "        myfruits.append(x)\n",
    "print(myfruits)"
   ]
  },
  {
   "cell_type": "code",
   "execution_count": 177,
   "metadata": {},
   "outputs": [
    {
     "name": "stdout",
     "output_type": "stream",
     "text": [
      "['apple', 'banana', 'mango', 'apple']\n"
     ]
    }
   ],
   "source": [
    "fruits = [\"apple\", \"banana\", \"cherry\", \"kiwi\", \"mango\", \"apple\"]\n",
    "myfruits = [x for x in fruits if \"a\" in x]\n",
    "print(myfruits)"
   ]
  },
  {
   "cell_type": "code",
   "execution_count": 182,
   "metadata": {},
   "outputs": [
    {
     "data": {
      "text/plain": [
       "['apple', 'banana', 'cherry', 'kiwi', 'mango']"
      ]
     },
     "execution_count": 182,
     "metadata": {},
     "output_type": "execute_result"
    }
   ],
   "source": [
    "fruits = [\"apple\", \"banana\", \"cherry\", \"kiwi\", \"mango\",]\n",
    "fruits.sort()\n",
    "fruits"
   ]
  },
  {
   "cell_type": "code",
   "execution_count": 183,
   "metadata": {},
   "outputs": [
    {
     "data": {
      "text/plain": [
       "['mango', 'kiwi', 'cherry', 'banana', 'apple']"
      ]
     },
     "execution_count": 183,
     "metadata": {},
     "output_type": "execute_result"
    }
   ],
   "source": [
    "fruits = [\"apple\", \"banana\", \"cherry\", \"kiwi\", \"mango\",]\n",
    "fruits.sort(reverse=True)\n",
    "fruits"
   ]
  },
  {
   "cell_type": "code",
   "execution_count": 189,
   "metadata": {},
   "outputs": [
    {
     "name": "stdout",
     "output_type": "stream",
     "text": [
      "['apple', 'banana', 'cherry', 'kiwi', 'mango', 'waleed']\n",
      "['apple', 'banana', 'cherry', 'kiwi', 'mango', 'waleed']\n"
     ]
    }
   ],
   "source": [
    "fruits = [\"apple\", \"banana\", \"cherry\", \"kiwi\", \"mango\",]\n",
    "myfruits = fruits\n",
    "myfruits\n",
    "myfruits.append(\"waleed\")\n",
    "print(myfruits)\n",
    "print(fruits)"
   ]
  },
  {
   "cell_type": "code",
   "execution_count": 190,
   "metadata": {},
   "outputs": [
    {
     "name": "stdout",
     "output_type": "stream",
     "text": [
      "['apple', 'banana', 'cherry', 'kiwi', 'mango', 'waleed']\n",
      "['apple', 'banana', 'cherry', 'kiwi', 'mango']\n"
     ]
    }
   ],
   "source": [
    "fruits = [\"apple\", \"banana\", \"cherry\", \"kiwi\", \"mango\",]\n",
    "myfruits = fruits.copy()\n",
    "myfruits.append(\"waleed\")\n",
    "print(myfruits)\n",
    "print(fruits)"
   ]
  },
  {
   "cell_type": "code",
   "execution_count": 194,
   "metadata": {},
   "outputs": [
    {
     "name": "stdout",
     "output_type": "stream",
     "text": [
      "['apple', 'banana', 'cherry', 'kiwi', 'mango', 'waleed']\n",
      "['apple', 'banana', 'cherry', 'kiwi', 'mango']\n"
     ]
    }
   ],
   "source": [
    "fruits = [\"apple\", \"banana\", \"cherry\", \"kiwi\", \"mango\",]\n",
    "myfruits =list(fruits)\n",
    "myfruits.append(\"waleed\")\n",
    "print(myfruits)\n",
    "print(fruits)"
   ]
  },
  {
   "cell_type": "markdown",
   "metadata": {},
   "source": [
    "user input data base "
   ]
  },
  {
   "cell_type": "code",
   "execution_count": 244,
   "metadata": {},
   "outputs": [
    {
     "name": "stdout",
     "output_type": "stream",
     "text": [
      "Invalid user\n"
     ]
    }
   ],
   "source": [
    "users = [{\"sir zia\", \"123\"},{\"ali\", \"123\"},{\"sir\", \"123\"},]\n",
    "input_of_user = input(\"Enter your user name.\")\n",
    "input_of_password = input(\"Enter your password\")\n",
    "for x in users:\n",
    "     user, password = x\n",
    "     if input_of_user == user and input_of_password == password:\n",
    "        print(\"welcome to home\")\n",
    "        break \n",
    "else:\n",
    "    print(\"Invalid user\")"
   ]
  }
 ],
 "metadata": {
  "kernelspec": {
   "display_name": "Python 3",
   "language": "python",
   "name": "python3"
  },
  "language_info": {
   "codemirror_mode": {
    "name": "ipython",
    "version": 3
   },
   "file_extension": ".py",
   "mimetype": "text/x-python",
   "name": "python",
   "nbconvert_exporter": "python",
   "pygments_lexer": "ipython3",
   "version": "3.12.0"
  }
 },
 "nbformat": 4,
 "nbformat_minor": 2
}
